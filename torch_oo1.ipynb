{
 "cells": [
  {
   "attachments": {},
   "cell_type": "markdown",
   "metadata": {},
   "source": [
    "## Pytorch fundamentals\n",
    "\n",
    "Pytorch fundamentals"
   ]
  },
  {
   "cell_type": "code",
   "execution_count": 1,
   "metadata": {},
   "outputs": [
    {
     "name": "stdout",
     "output_type": "stream",
     "text": [
      "2.0.0+cu117\n"
     ]
    }
   ],
   "source": [
    "import torch\n",
    "import pandas as pd\n",
    "import numpy as np\n",
    "import matplotlib.pyplot as plt\n",
    "print(torch.__version__)"
   ]
  },
  {
   "cell_type": "markdown",
   "metadata": {},
   "source": [
    "### Introduction to tensors\n",
    "\n",
    "## Creating Scalars"
   ]
  },
  {
   "cell_type": "code",
   "execution_count": 2,
   "metadata": {},
   "outputs": [
    {
     "data": {
      "text/plain": [
       "0"
      ]
     },
     "execution_count": 2,
     "metadata": {},
     "output_type": "execute_result"
    }
   ],
   "source": [
    "#Scalar\n",
    "#pytorch tensors are created using torch.tensor()\n",
    "scalar=torch.tensor(7)\n",
    "scalar\n",
    "scalar.ndim   "
   ]
  },
  {
   "cell_type": "code",
   "execution_count": 3,
   "metadata": {},
   "outputs": [
    {
     "data": {
      "text/plain": [
       "1"
      ]
     },
     "execution_count": 3,
     "metadata": {},
     "output_type": "execute_result"
    }
   ],
   "source": [
    "#vector\n",
    "vector=torch.tensor([2,3])\n",
    "vector.ndim"
   ]
  },
  {
   "cell_type": "code",
   "execution_count": 4,
   "metadata": {},
   "outputs": [
    {
     "data": {
      "text/plain": [
       "2"
      ]
     },
     "execution_count": 4,
     "metadata": {},
     "output_type": "execute_result"
    }
   ],
   "source": [
    "#matrix\n",
    "matrix=torch.tensor([[1,2],\n",
    "                     [2,3]])\n",
    "matrix.ndim"
   ]
  },
  {
   "cell_type": "code",
   "execution_count": 5,
   "metadata": {},
   "outputs": [
    {
     "data": {
      "text/plain": [
       "torch.Size([1, 3, 3])"
      ]
     },
     "execution_count": 5,
     "metadata": {},
     "output_type": "execute_result"
    }
   ],
   "source": [
    "#TENSOR\n",
    "TENSOR=torch.tensor([[[1,2,3],\n",
    "                      [4,5,6],\n",
    "                      [5,7,8]]])\n",
    "TENSOR.shape"
   ]
  },
  {
   "attachments": {},
   "cell_type": "markdown",
   "metadata": {},
   "source": [
    "### Creating random tensors"
   ]
  },
  {
   "cell_type": "code",
   "execution_count": 6,
   "metadata": {},
   "outputs": [
    {
     "data": {
      "text/plain": [
       "(torch.Size([3, 224, 224]), 3)"
      ]
     },
     "execution_count": 6,
     "metadata": {},
     "output_type": "execute_result"
    }
   ],
   "source": [
    "#random tensor of an image\n",
    "random_image_tensor=torch.rand(3,224,224) #color channels(r,g,b),height,width\n",
    "random_image_tensor.shape,random_image_tensor.ndim"
   ]
  },
  {
   "cell_type": "code",
   "execution_count": 7,
   "metadata": {},
   "outputs": [],
   "source": [
    "#use torch.arange\n",
    "ra=torch.arange(start=1,end=11,step=2)\n"
   ]
  },
  {
   "cell_type": "code",
   "execution_count": 8,
   "metadata": {},
   "outputs": [
    {
     "data": {
      "text/plain": [
       "tensor([0, 0, 0, 0, 0])"
      ]
     },
     "execution_count": 8,
     "metadata": {},
     "output_type": "execute_result"
    }
   ],
   "source": [
    "#creating tensors like\n",
    "ten_zeros=torch.zeros_like(input=ra)\n",
    "ten_zeros"
   ]
  },
  {
   "attachments": {},
   "cell_type": "markdown",
   "metadata": {},
   "source": [
    "### Tensor Datatypes\n"
   ]
  },
  {
   "cell_type": "code",
   "execution_count": 9,
   "metadata": {},
   "outputs": [
    {
     "data": {
      "text/plain": [
       "torch.float32"
      ]
     },
     "execution_count": 9,
     "metadata": {},
     "output_type": "execute_result"
    }
   ],
   "source": [
    "float_32_tensor=torch.tensor([3.0,6.0,9.0],dtype=None)\n",
    "float_32_tensor.dtype"
   ]
  },
  {
   "attachments": {},
   "cell_type": "markdown",
   "metadata": {},
   "source": [
    "#### mathematical operations on tensors\n",
    " Addition\n",
    " Subtraction\n",
    " Division\n",
    " Multiplication\n",
    " Matrix multiplication (torch.matmul(a,b))"
   ]
  },
  {
   "attachments": {},
   "cell_type": "markdown",
   "metadata": {},
   "source": [
    "### Reshaping,Viewing,Stacking and Squeezing\n",
    "* Reshaping- reshape an input tensor to a defined shape\n",
    "* View-return view of an input tensor of certain shape but keep the same memory as the original tensor\n",
    "* Stacking- combine multiple tensors on top of each other(vstack) or side by side(hstack)\n",
    "* Squeeze -remove all `1` dimension from a tensor\n",
    "* Unsqueeze- add a 1 dimension to a target tensor\n",
    "* Permute-Return a view of the input with dimensions permuted(swaped) in a certain way"
   ]
  },
  {
   "cell_type": "code",
   "execution_count": 15,
   "metadata": {},
   "outputs": [
    {
     "data": {
      "text/plain": [
       "(tensor([ 1,  2,  3,  4,  5,  6,  7,  8,  9, 10]), torch.Size([10]))"
      ]
     },
     "execution_count": 15,
     "metadata": {},
     "output_type": "execute_result"
    }
   ],
   "source": [
    "z=torch.arange(1,11)\n",
    "z,z.shape"
   ]
  },
  {
   "cell_type": "code",
   "execution_count": 17,
   "metadata": {},
   "outputs": [
    {
     "data": {
      "text/plain": [
       "tensor([[ 1,  2,  3,  4,  5],\n",
       "        [ 6,  7,  8,  9, 10]])"
      ]
     },
     "execution_count": 17,
     "metadata": {},
     "output_type": "execute_result"
    }
   ],
   "source": [
    "#Reshape\n",
    "r=z.reshape(2,5)\n",
    "r"
   ]
  },
  {
   "cell_type": "code",
   "execution_count": 22,
   "metadata": {},
   "outputs": [
    {
     "data": {
      "text/plain": [
       "tensor([[ 1,  2],\n",
       "        [ 3,  4],\n",
       "        [ 5,  6],\n",
       "        [ 7,  8],\n",
       "        [ 9, 10]])"
      ]
     },
     "execution_count": 22,
     "metadata": {},
     "output_type": "execute_result"
    }
   ],
   "source": [
    "#change the view\n",
    "#the view shares the same memory as the original tensor\n",
    "#changing any value in the view changes the value in original tensor\n",
    "v=z.view(5,2)\n",
    "v"
   ]
  },
  {
   "attachments": {},
   "cell_type": "markdown",
   "metadata": {},
   "source": [
    "##### changing a value in a view affects the original tensor"
   ]
  },
  {
   "cell_type": "code",
   "execution_count": 24,
   "metadata": {},
   "outputs": [
    {
     "data": {
      "text/plain": [
       "(tensor([[ 1, 22],\n",
       "         [ 3, 22],\n",
       "         [ 5, 22],\n",
       "         [ 7, 22],\n",
       "         [ 9, 22]]),\n",
       " tensor([ 1, 22,  3, 22,  5, 22,  7, 22,  9, 22]))"
      ]
     },
     "execution_count": 24,
     "metadata": {},
     "output_type": "execute_result"
    }
   ],
   "source": [
    "v[:,1]=22\n",
    "v,z"
   ]
  },
  {
   "cell_type": "code",
   "execution_count": 32,
   "metadata": {},
   "outputs": [
    {
     "data": {
      "text/plain": [
       "tensor([[ 1,  1,  1,  1],\n",
       "        [22, 22, 22, 22],\n",
       "        [ 3,  3,  3,  3],\n",
       "        [22, 22, 22, 22],\n",
       "        [ 5,  5,  5,  5],\n",
       "        [22, 22, 22, 22],\n",
       "        [ 7,  7,  7,  7],\n",
       "        [22, 22, 22, 22],\n",
       "        [ 9,  9,  9,  9],\n",
       "        [22, 22, 22, 22]])"
      ]
     },
     "execution_count": 32,
     "metadata": {},
     "output_type": "execute_result"
    }
   ],
   "source": [
    "#Stack on top of each other(torch.vstack)\n",
    "z_stacked=torch.stack([z,z,z,z],dim=1)\n",
    "z_stacked"
   ]
  },
  {
   "cell_type": "code",
   "execution_count": null,
   "metadata": {},
   "outputs": [],
   "source": [
    "# squeeze and Unsqueeze"
   ]
  },
  {
   "attachments": {},
   "cell_type": "markdown",
   "metadata": {},
   "source": [
    "#### PyTorch Tensors & Numpy \n",
    "Pytorch has functionality to interact with numpy arrays\n",
    " * To change from numpy array to pytorch tensor, torch.from_numpy(ndarray)\n",
    " * To change from tensor to numpy array , torch.Tensor.numpy()\n",
    " * when converting from numpy->pytorch, pytorch reflects the dtype(float64) of numpy unless specified otherwise and vice versa"
   ]
  },
  {
   "cell_type": "code",
   "execution_count": 1,
   "metadata": {},
   "outputs": [
    {
     "data": {
      "text/plain": [
       "(array([1., 2., 3., 4., 5., 6., 7.]),\n",
       " tensor([1., 2., 3., 4., 5., 6., 7.], dtype=torch.float64))"
      ]
     },
     "execution_count": 1,
     "metadata": {},
     "output_type": "execute_result"
    }
   ],
   "source": [
    "#Numpy array to tensor \n",
    "import torch\n",
    "import numpy as np\n",
    "\n",
    "array=np.arange(1.0,8.0)\n",
    "tensor=torch.from_numpy(array)\n",
    "array,tensor"
   ]
  },
  {
   "cell_type": "code",
   "execution_count": 2,
   "metadata": {},
   "outputs": [
    {
     "data": {
      "text/plain": [
       "(tensor([1., 1., 1., 1., 1.]), array([1., 1., 1., 1., 1.], dtype=float32))"
      ]
     },
     "execution_count": 2,
     "metadata": {},
     "output_type": "execute_result"
    }
   ],
   "source": [
    "#tensor to numpy\n",
    "tens=torch.ones(5)\n",
    "numpy_tensor=tens.numpy()\n",
    "tens,numpy_tensor"
   ]
  },
  {
   "attachments": {},
   "cell_type": "markdown",
   "metadata": {},
   "source": [
    "### Reproduceability( trying to take the random out of random)\n",
    " How a neural network learns:\n",
    " `start with random numbers-> tensor operations-> update random numbers to try and make them better -> representations of the data -> and repeat`\n",
    "\n",
    " To reduce the randomness in neural networks and pytorch comes the concept of a **random seed**.\n",
    "\n",
    " Essentially what the random seed does is \"flavor\" the randomness\n",
    "\n"
   ]
  },
  {
   "cell_type": "code",
   "execution_count": 10,
   "metadata": {},
   "outputs": [
    {
     "name": "stdout",
     "output_type": "stream",
     "text": [
      "tensor([[0.0441, 0.8851, 0.2072, 0.3439],\n",
      "        [0.4501, 0.3566, 0.9542, 0.6612],\n",
      "        [0.0795, 0.4684, 0.3733, 0.7962]])\n",
      "tensor([[0.0441, 0.8851, 0.2072, 0.3439],\n",
      "        [0.4501, 0.3566, 0.9542, 0.6612],\n",
      "        [0.0795, 0.4684, 0.3733, 0.7962]])\n",
      "tensor([[False, False, False, False],\n",
      "        [False, False, False, False],\n",
      "        [False, False, False, False]])\n"
     ]
    }
   ],
   "source": [
    "import torch\n",
    "#create two random tensors\n",
    "random_tensor_A=torch.rand(3,4)\n",
    "random_tensor_B=torch.rand(3,4)\n",
    "print(random_tensor_A)\n",
    "print(random_tensor_A)\n",
    "print(random_tensor_A==random_tensor_B)\n"
   ]
  },
  {
   "cell_type": "code",
   "execution_count": 11,
   "metadata": {},
   "outputs": [
    {
     "name": "stdout",
     "output_type": "stream",
     "text": [
      "tensor([[0.8823, 0.9150, 0.3829, 0.9593],\n",
      "        [0.3904, 0.6009, 0.2566, 0.7936],\n",
      "        [0.9408, 0.1332, 0.9346, 0.5936]])\n",
      "tensor([[0.8823, 0.9150, 0.3829, 0.9593],\n",
      "        [0.3904, 0.6009, 0.2566, 0.7936],\n",
      "        [0.9408, 0.1332, 0.9346, 0.5936]])\n",
      "tensor([[True, True, True, True],\n",
      "        [True, True, True, True],\n",
      "        [True, True, True, True]])\n"
     ]
    }
   ],
   "source": [
    "#creating a random but reproducible random tensor\n",
    "\n",
    "#initiialize random seed\n",
    "Random_seed=42 # note: it can be any arbitrary number of choice\n",
    "\n",
    "#manually set the random seed with your seed of choice\n",
    "torch.manual_seed(Random_seed)\n",
    "random_tensor_C=torch.rand(3,4)\n",
    "#you have to set the random seed again whenever you want to create another random tensor using your random seed\n",
    "torch.manual_seed(Random_seed)\n",
    "random_tensor_D=torch.rand(3,4)\n",
    "print(random_tensor_C)\n",
    "print(random_tensor_D)\n",
    "print(random_tensor_C==random_tensor_D)"
   ]
  },
  {
   "attachments": {},
   "cell_type": "markdown",
   "metadata": {},
   "source": [
    "### Running tensors and pytorch objects on GPUs ( making for faster computation)"
   ]
  },
  {
   "cell_type": "code",
   "execution_count": 12,
   "metadata": {},
   "outputs": [
    {
     "data": {
      "text/plain": [
       "False"
      ]
     },
     "execution_count": 12,
     "metadata": {},
     "output_type": "execute_result"
    }
   ],
   "source": [
    "torch.cuda.is_available()"
   ]
  }
 ],
 "metadata": {
  "kernelspec": {
   "display_name": "base",
   "language": "python",
   "name": "python3"
  },
  "language_info": {
   "codemirror_mode": {
    "name": "ipython",
    "version": 3
   },
   "file_extension": ".py",
   "mimetype": "text/x-python",
   "name": "python",
   "nbconvert_exporter": "python",
   "pygments_lexer": "ipython3",
   "version": "3.10.9"
  },
  "orig_nbformat": 4
 },
 "nbformat": 4,
 "nbformat_minor": 2
}
